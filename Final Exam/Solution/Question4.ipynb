{
 "cells": [
  {
   "cell_type": "code",
   "execution_count": 36,
   "metadata": {},
   "outputs": [],
   "source": [
    "import random"
   ]
  },
  {
   "cell_type": "code",
   "execution_count": 18,
   "metadata": {},
   "outputs": [],
   "source": [
    "g = [[10, 3, 4,6, 23],\n",
    "    [9, 32, 12, 2, 34],\n",
    "    [7, 8, 100, 21, 11],\n",
    "    [18, 67, 55, 89, 90],\n",
    "    [22, 33, 14, 44, 110]]"
   ]
  },
  {
   "cell_type": "code",
   "execution_count": 24,
   "metadata": {},
   "outputs": [],
   "source": [
    "def beam_search_best(grid, k):\n",
    "    # loop to get k random states\n",
    "    random_states = []\n",
    "    for i in range(0,k):\n",
    "        s = []\n",
    "        r = random.randint(0,4)\n",
    "        c = random.randint(0,4)\n",
    "        s.append(r)\n",
    "        s.append(c)\n",
    "        if s not in random_states:\n",
    "            random_states.append(s)\n",
    "        else:\n",
    "            s = []\n",
    "            r = random.randint(0,4)\n",
    "            c = random.randint(0,4)\n",
    "            s.append(r)\n",
    "            s.append(c)\n",
    "            random_states.append(s)\n",
    "    print('Random states:',random_states)\n",
    "        # loop\n",
    "    while True:\n",
    "    # get all successors of all k states\n",
    "        successors = []\n",
    "        for i in random_states:\n",
    "            r = i[0]\n",
    "            c = i[1]\n",
    "            up = [r-1, c]\n",
    "            dwn = [r+1, c]\n",
    "            rgt = [r, c+1]\n",
    "            lft = [r, c-1]\n",
    "            if up[0] >= 0 and up[0] <= 4 and up[1] >= 0 and up[1] <= 4:\n",
    "                if up not in successors and up not in random_states:\n",
    "                    successors.append(up)\n",
    "            if dwn[0] >= 0 and dwn[0] <= 4 and dwn[1] >= 0 and dwn[1] <= 4:\n",
    "                if dwn not in successors and dwn not in random_states:\n",
    "                    successors.append(dwn)\n",
    "            if rgt[0] >= 0 and rgt[0] <= 4 and rgt[1] >= 0 and rgt[1] <= 4:\n",
    "                if rgt not in successors and rgt not in random_states:\n",
    "                    successors.append(rgt)\n",
    "            if lft[0] >= 0 and lft[0] <= 4 and lft[1] >= 0 and lft[1] <= 4:\n",
    "                if lft not in successors and lft not in random_states:\n",
    "                    successors.append(lft)\n",
    "            \n",
    "    print('successors:',successors)\n",
    "    "
   ]
  },
  {
   "cell_type": "code",
   "execution_count": 34,
   "metadata": {},
   "outputs": [
    {
     "ename": "NameError",
     "evalue": "name 'random_states' is not defined",
     "output_type": "error",
     "traceback": [
      "\u001b[0;31m---------------------------------------------------------------------------\u001b[0m",
      "\u001b[0;31mNameError\u001b[0m                                 Traceback (most recent call last)",
      "\u001b[0;32m<ipython-input-34-b4b3e1efa915>\u001b[0m in \u001b[0;36m<module>\u001b[0;34m\u001b[0m\n\u001b[1;32m      1\u001b[0m \u001b[0;31m# finding sol: if any random state has greater value than all the successors in the list\u001b[0m\u001b[0;34m\u001b[0m\u001b[0;34m\u001b[0m\u001b[0;34m\u001b[0m\u001b[0m\n\u001b[0;32m----> 2\u001b[0;31m \u001b[0;32mfor\u001b[0m \u001b[0mi\u001b[0m \u001b[0;32min\u001b[0m \u001b[0mrandom_states\u001b[0m\u001b[0;34m:\u001b[0m\u001b[0;34m\u001b[0m\u001b[0;34m\u001b[0m\u001b[0m\n\u001b[0m\u001b[1;32m      3\u001b[0m     \u001b[0;32mfor\u001b[0m \u001b[0mj\u001b[0m \u001b[0;32min\u001b[0m \u001b[0msuccessors\u001b[0m\u001b[0;34m:\u001b[0m\u001b[0;34m\u001b[0m\u001b[0;34m\u001b[0m\u001b[0m\n\u001b[1;32m      4\u001b[0m         \u001b[0;32mif\u001b[0m \u001b[0mgrid\u001b[0m\u001b[0;34m[\u001b[0m\u001b[0mi\u001b[0m\u001b[0;34m[\u001b[0m\u001b[0;36m0\u001b[0m\u001b[0;34m]\u001b[0m\u001b[0;34m]\u001b[0m\u001b[0;34m[\u001b[0m\u001b[0mi\u001b[0m\u001b[0;34m[\u001b[0m\u001b[0;36m1\u001b[0m\u001b[0;34m]\u001b[0m\u001b[0;34m]\u001b[0m \u001b[0;34m>\u001b[0m \u001b[0mgrid\u001b[0m\u001b[0;34m[\u001b[0m\u001b[0mj\u001b[0m\u001b[0;34m[\u001b[0m\u001b[0;36m0\u001b[0m\u001b[0;34m]\u001b[0m\u001b[0;34m]\u001b[0m\u001b[0;34m[\u001b[0m\u001b[0mj\u001b[0m\u001b[0;34m[\u001b[0m\u001b[0;36m1\u001b[0m\u001b[0;34m]\u001b[0m\u001b[0;34m]\u001b[0m\u001b[0;34m:\u001b[0m\u001b[0;34m\u001b[0m\u001b[0;34m\u001b[0m\u001b[0m\n\u001b[1;32m      5\u001b[0m             \u001b[0mflg\u001b[0m \u001b[0;34m=\u001b[0m \u001b[0;32mTrue\u001b[0m\u001b[0;34m\u001b[0m\u001b[0;34m\u001b[0m\u001b[0m\n",
      "\u001b[0;31mNameError\u001b[0m: name 'random_states' is not defined"
     ]
    }
   ],
   "source": [
    "# finding sol: if any random state has greater value than all the successors in the list\n",
    "for i in random_states:\n",
    "    for j in successors:\n",
    "        if grid[i[0]][i[1]] > grid[j[0]][j[1]]:\n",
    "            flg = True\n",
    "            continue\n",
    "        else:\n",
    "            flg = False\n",
    "            break\n",
    "    if flg == True:\n",
    "        print('Solution:',i[0],i[1])\n",
    "return (i[0],i[1])\n",
    "# if solution not found\n",
    "# get k best successors\n",
    "succ_vals = []\n",
    "succ = successors\n",
    "for i in range(0,k):\n",
    "        max_val = 0\n",
    "        for j in succ:\n",
    "            val = grid[j[0]][j[1]]\n",
    "            print('Val:',val)\n",
    "            if val > max_val:\n",
    "                max_val = val\n",
    "                row = j[0]\n",
    "                col = j[1]\n",
    "        succ_vals.append([row,col])\n",
    "        print('Appending successor:',succ_vals)\n",
    "        print('max',max_val)\n",
    "        succ.remove([row,col])\n",
    "print('succ_vals:',succ_vals)\n",
    "random_states = succ_vals"
   ]
  },
  {
   "cell_type": "code",
   "execution_count": null,
   "metadata": {},
   "outputs": [],
   "source": []
  }
 ],
 "metadata": {
  "kernelspec": {
   "display_name": "Python 3",
   "language": "python",
   "name": "python3"
  },
  "language_info": {
   "codemirror_mode": {
    "name": "ipython",
    "version": 3
   },
   "file_extension": ".py",
   "mimetype": "text/x-python",
   "name": "python",
   "nbconvert_exporter": "python",
   "pygments_lexer": "ipython3",
   "version": "3.7.6"
  }
 },
 "nbformat": 4,
 "nbformat_minor": 4
}
